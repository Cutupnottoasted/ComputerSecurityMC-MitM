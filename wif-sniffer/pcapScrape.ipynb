{
 "cells": [
  {
   "cell_type": "markdown",
   "metadata": {},
   "source": [
    "pcapScraping"
   ]
  },
  {
   "cell_type": "code",
   "execution_count": 6,
   "metadata": {},
   "outputs": [],
   "source": [
    "# imports\n",
    "from datetime import datetime\n",
    "import logging\n",
    "from scapy.all import *"
   ]
  },
  {
   "cell_type": "code",
   "execution_count": 7,
   "metadata": {},
   "outputs": [],
   "source": [
    "files = ['example-ft.pcapng', 'example-tptk-attack.pcapng', 'ipv4frags.pcap', 'nf9-juniper-vmx.pcapng.cap', 'smtp.pcap', 'teardrop.cap']\n",
    "# set up logging format\n",
    "logging.basicConfig(filename='debug.log', level=logging.DEBUG, format='%(asctime)s %(levelname)s:%(message)s')"
   ]
  },
  {
   "cell_type": "markdown",
   "metadata": {},
   "source": [
    "Functions"
   ]
  },
  {
   "cell_type": "markdown",
   "metadata": {},
   "source": [
    "Logging Functions"
   ]
  },
  {
   "cell_type": "code",
   "execution_count": 8,
   "metadata": {},
   "outputs": [],
   "source": [
    "def log_error(error=None):\n",
    "    error_msg = f'{datetime.now()} - An error occurred: {error}\\n{traceback.format_exc()}'\n",
    "    logging.error(error_msg)"
   ]
  },
  {
   "cell_type": "code",
   "execution_count": 9,
   "metadata": {},
   "outputs": [],
   "source": [
    "def logger(s):\n",
    "    msg = f'{datetime.now()} - Log: {s}\\n{traceback.format_exc()}'\n",
    "    logging.log(msg)"
   ]
  },
  {
   "cell_type": "markdown",
   "metadata": {},
   "source": [
    "PCAP Functions"
   ]
  },
  {
   "cell_type": "code",
   "execution_count": 10,
   "metadata": {},
   "outputs": [],
   "source": [
    "def process_pcap(pcap_file, block_traffic=False):\n",
    "    try:\n",
    "        packets = rdpcap(pcap_file)\n",
    "        logger(f\"Successfully read {len(packets)} packets from {pcap_file}\")\n",
    "        print(f\"Successfully read {len(packets)} packets from {pcap_file}\")\n",
    "    except Exception as e:\n",
    "        print(f\"Error reading {pcap_file}: {e}\")\n",
    "        return None\n",
    "\n",
    "    attackers = {}\n",
    "\n",
    "    def process_packet(packet, packet_number):\n",
    "        nonlocal block_traffic  # Use the block_traffic flag from the outer function\n",
    "\n",
    "        timestamp = float(packet.time)\n",
    "        formatted_time = datetime.utcfromtimestamp(timestamp).strftime('%Y-%m-%d %H:%M:%S.%f')[:-3]\n",
    "\n",
    "        if Dot11 in packet:\n",
    "            src_mac = packet[Dot11].addr2\n",
    "            dst_mac = packet[Dot11].addr1\n",
    "\n",
    "            if src_mac not in attackers:\n",
    "                attackers[src_mac] = {\"count\": 1, \"details\": [(dst_mac)]}\n",
    "            else:\n",
    "                attackers[src_mac][\"count\"] += 1\n",
    "                attackers[src_mac][\"details\"].append(dst_mac)\n",
    "\n",
    "            if Dot11WEP in packet and packet[Dot11WEP].key_info & 64:\n",
    "                reason = \"Potential KRACK attack\"\n",
    "                print(f\"\\nPacket {packet_number} flagged as potential attacker - Reason: {reason}\")\n",
    "                if block_traffic:\n",
    "                    print(f\"Blocking traffic for this packet.\")\n",
    "                    return  # Exit the function, simulating blocking traffic\n",
    "        else:\n",
    "            src_ip = packet[IP].src if IP in packet else \"N/A\"\n",
    "            dst_ip = packet[IP].dst if IP in packet else \"N/A\"\n",
    "            src_port = packet[IP].sport if IP in packet else \"N/A\"\n",
    "            dst_port = packet[IP].dport if IP in packet else \"N/A\"\n",
    "            protocol = packet[IP].proto if IP in packet else \"N/A\"\n",
    "\n",
    "            # Print the entire packet details for non-Dot11 packets\n",
    "            print(f\"\\nPacket {packet_number} - Timestamp: {formatted_time} - Length: {len(packet)} bytes\")\n",
    "            print(f\"Source IP: {src_ip}, Destination IP: {dst_ip}\")\n",
    "            print(f\"Source Port: {src_port}, Destination Port: {dst_port}, Protocol: {protocol}\")\n",
    "\n",
    "            if block_traffic:\n",
    "                reason = \"Handshake failed\"  # Simulated reason for blocking\n",
    "                print(f\"Packet {packet_number} flagged as potential attacker - Reason: {reason}\")\n",
    "                print(f\"Blocking {src_ip}:{src_port} - Reason: {reason}\")\n",
    "                return  # Exit the function, simulating blocking traffic\n",
    "\n",
    "    for packet_number, packet in enumerate(packets, 1):\n",
    "        process_packet(packet, packet_number)\n",
    "\n",
    "    # Print blocking simulation if there are potential attackers and block_traffic is enabled\n",
    "    if block_traffic and any(data[\"count\"] > 0 for data in attackers.values()):\n",
    "        print(f\"Blocking traffic for potential attackers.\")\n",
    "        return attackers\n",
    "\n",
    "    return attackers"
   ]
  },
  {
   "cell_type": "markdown",
   "metadata": {},
   "source": [
    "MAIN"
   ]
  },
  {
   "cell_type": "code",
   "execution_count": 11,
   "metadata": {},
   "outputs": [
    {
     "name": "stdout",
     "output_type": "stream",
     "text": [
      "Error reading example-tptk-attack.pcapng: log() missing 1 required positional argument: 'msg'\n",
      "Error reading nf9-juniper-vmx.pcapng.cap: log() missing 1 required positional argument: 'msg'\n"
     ]
    },
    {
     "ename": "AttributeError",
     "evalue": "'NoneType' object has no attribute 'values'",
     "output_type": "error",
     "traceback": [
      "\u001b[1;31m---------------------------------------------------------------------------\u001b[0m",
      "\u001b[1;31mAttributeError\u001b[0m                            Traceback (most recent call last)",
      "\u001b[1;32mc:\\Users\\Codizzle\\gitKraken\\ComputerSecurityMC-MitM\\wif-sniffer\\pcapScrape.ipynb Cell 11\u001b[0m line \u001b[0;36m1\n\u001b[0;32m     <a href='vscode-notebook-cell:/c%3A/Users/Codizzle/gitKraken/ComputerSecurityMC-MitM/wif-sniffer/pcapScrape.ipynb#X20sZmlsZQ%3D%3D?line=11'>12</a>\u001b[0m threshold \u001b[39m=\u001b[39m \u001b[39m1\u001b[39m\n\u001b[0;32m     <a href='vscode-notebook-cell:/c%3A/Users/Codizzle/gitKraken/ComputerSecurityMC-MitM/wif-sniffer/pcapScrape.ipynb#X20sZmlsZQ%3D%3D?line=13'>14</a>\u001b[0m \u001b[39m# Print or report potential attackers for the first file\u001b[39;00m\n\u001b[1;32m---> <a href='vscode-notebook-cell:/c%3A/Users/Codizzle/gitKraken/ComputerSecurityMC-MitM/wif-sniffer/pcapScrape.ipynb#X20sZmlsZQ%3D%3D?line=14'>15</a>\u001b[0m \u001b[39mif\u001b[39;00m \u001b[39many\u001b[39m(data[\u001b[39m\"\u001b[39m\u001b[39mcount\u001b[39m\u001b[39m\"\u001b[39m] \u001b[39m>\u001b[39m threshold \u001b[39mfor\u001b[39;00m data \u001b[39min\u001b[39;00m attackers1\u001b[39m.\u001b[39;49mvalues()):\n\u001b[0;32m     <a href='vscode-notebook-cell:/c%3A/Users/Codizzle/gitKraken/ComputerSecurityMC-MitM/wif-sniffer/pcapScrape.ipynb#X20sZmlsZQ%3D%3D?line=15'>16</a>\u001b[0m     \u001b[39mprint\u001b[39m(\u001b[39mf\u001b[39m\u001b[39m\"\u001b[39m\u001b[39m\\n\u001b[39;00m\u001b[39mPotential Attackers detected in \u001b[39m\u001b[39m{\u001b[39;00mpcap_file1\u001b[39m}\u001b[39;00m\u001b[39m\"\u001b[39m)\n\u001b[0;32m     <a href='vscode-notebook-cell:/c%3A/Users/Codizzle/gitKraken/ComputerSecurityMC-MitM/wif-sniffer/pcapScrape.ipynb#X20sZmlsZQ%3D%3D?line=16'>17</a>\u001b[0m \u001b[39melse\u001b[39;00m:\n",
      "\u001b[1;31mAttributeError\u001b[0m: 'NoneType' object has no attribute 'values'"
     ]
    }
   ],
   "source": [
    "pcap_file1 = \"example-tptk-attack.pcapng\"\n",
    "pcap_file2 = \"nf9-juniper-vmx.pcapng.cap\"\n",
    "\n",
    "# Process the first pcap file\n",
    "attackers1 = process_pcap(pcap_file1, block_traffic=True)\n",
    "\n",
    "# Process the second pcap file\n",
    "attackers2 = process_pcap(pcap_file2, block_traffic=True)\n",
    "\n",
    "# Combine results or perform further analysis as needed\n",
    "# For simplicity, this example just prints the results\n",
    "threshold = 1\n",
    "\n",
    "# Print or report potential attackers for the first file\n",
    "if any(data[\"count\"] > threshold for data in attackers1.values()):\n",
    "    print(f\"\\nPotential Attackers detected in {pcap_file1}\")\n",
    "else:\n",
    "    print(f\"\\nNo Potential Attackers detected in {pcap_file1}\")\n",
    "\n",
    "# Print or report potential attackers for the second file\n",
    "if any(data[\"count\"] > threshold for data in attackers2.values()):\n",
    "    print(f\"\\nPotential Attackers detected in {pcap_file2}\")\n",
    "else:\n",
    "    print(f\"\\nNo Potential Attackers detected in {pcap_file2}\")"
   ]
  },
  {
   "cell_type": "code",
   "execution_count": null,
   "metadata": {},
   "outputs": [],
   "source": []
  }
 ],
 "metadata": {
  "kernelspec": {
   "display_name": "Python 3",
   "language": "python",
   "name": "python3"
  },
  "language_info": {
   "codemirror_mode": {
    "name": "ipython",
    "version": 3
   },
   "file_extension": ".py",
   "mimetype": "text/x-python",
   "name": "python",
   "nbconvert_exporter": "python",
   "pygments_lexer": "ipython3",
   "version": "3.11.6"
  }
 },
 "nbformat": 4,
 "nbformat_minor": 2
}
